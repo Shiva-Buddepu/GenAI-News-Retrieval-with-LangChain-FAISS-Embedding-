{
 "cells": [
  {
   "cell_type": "code",
   "execution_count": 2,
   "id": "4e8c66f2-270a-42b3-94c2-78845067e068",
   "metadata": {},
   "outputs": [
    {
     "name": "stdout",
     "output_type": "stream",
     "text": [
      "Collecting langchain-community\n",
      "  Downloading langchain_community-0.3.31-py3-none-any.whl.metadata (3.0 kB)\n",
      "Requirement already satisfied: langchain-core<2.0.0,>=0.3.78 in c:\\users\\shiva\\appdata\\local\\programs\\python\\python311\\lib\\site-packages (from langchain-community) (0.3.79)\n",
      "Requirement already satisfied: langchain<2.0.0,>=0.3.27 in c:\\users\\shiva\\appdata\\local\\programs\\python\\python311\\lib\\site-packages (from langchain-community) (0.3.27)\n",
      "Requirement already satisfied: SQLAlchemy<3.0.0,>=1.4.0 in c:\\users\\shiva\\appdata\\local\\programs\\python\\python311\\lib\\site-packages (from langchain-community) (2.0.44)\n",
      "Requirement already satisfied: requests<3.0.0,>=2.32.5 in c:\\users\\shiva\\appdata\\local\\programs\\python\\python311\\lib\\site-packages (from langchain-community) (2.32.5)\n",
      "Requirement already satisfied: PyYAML<7.0.0,>=5.3.0 in c:\\users\\shiva\\appdata\\local\\programs\\python\\python311\\lib\\site-packages (from langchain-community) (6.0.3)\n",
      "Collecting aiohttp<4.0.0,>=3.8.3 (from langchain-community)\n",
      "  Using cached aiohttp-3.13.0-cp311-cp311-win_amd64.whl.metadata (8.4 kB)\n",
      "Requirement already satisfied: tenacity!=8.4.0,<10.0.0,>=8.1.0 in c:\\users\\shiva\\appdata\\local\\programs\\python\\python311\\lib\\site-packages (from langchain-community) (9.1.2)\n",
      "Collecting dataclasses-json<0.7.0,>=0.6.7 (from langchain-community)\n",
      "  Downloading dataclasses_json-0.6.7-py3-none-any.whl.metadata (25 kB)\n",
      "Collecting pydantic-settings<3.0.0,>=2.10.1 (from langchain-community)\n",
      "  Downloading pydantic_settings-2.11.0-py3-none-any.whl.metadata (3.4 kB)\n",
      "Requirement already satisfied: langsmith<1.0.0,>=0.1.125 in c:\\users\\shiva\\appdata\\local\\programs\\python\\python311\\lib\\site-packages (from langchain-community) (0.4.35)\n",
      "Collecting httpx-sse<1.0.0,>=0.4.0 (from langchain-community)\n",
      "  Downloading httpx_sse-0.4.3-py3-none-any.whl.metadata (9.7 kB)\n",
      "Requirement already satisfied: numpy>=1.26.2 in c:\\users\\shiva\\appdata\\local\\programs\\python\\python311\\lib\\site-packages (from langchain-community) (2.3.3)\n",
      "Collecting aiohappyeyeballs>=2.5.0 (from aiohttp<4.0.0,>=3.8.3->langchain-community)\n",
      "  Downloading aiohappyeyeballs-2.6.1-py3-none-any.whl.metadata (5.9 kB)\n",
      "Collecting aiosignal>=1.4.0 (from aiohttp<4.0.0,>=3.8.3->langchain-community)\n",
      "  Downloading aiosignal-1.4.0-py3-none-any.whl.metadata (3.7 kB)\n",
      "Requirement already satisfied: attrs>=17.3.0 in c:\\users\\shiva\\appdata\\local\\programs\\python\\python311\\lib\\site-packages (from aiohttp<4.0.0,>=3.8.3->langchain-community) (25.4.0)\n",
      "Collecting frozenlist>=1.1.1 (from aiohttp<4.0.0,>=3.8.3->langchain-community)\n",
      "  Downloading frozenlist-1.8.0-cp311-cp311-win_amd64.whl.metadata (21 kB)\n",
      "Collecting multidict<7.0,>=4.5 (from aiohttp<4.0.0,>=3.8.3->langchain-community)\n",
      "  Downloading multidict-6.7.0-cp311-cp311-win_amd64.whl.metadata (5.5 kB)\n",
      "Collecting propcache>=0.2.0 (from aiohttp<4.0.0,>=3.8.3->langchain-community)\n",
      "  Downloading propcache-0.4.1-cp311-cp311-win_amd64.whl.metadata (14 kB)\n",
      "Collecting yarl<2.0,>=1.17.0 (from aiohttp<4.0.0,>=3.8.3->langchain-community)\n",
      "  Downloading yarl-1.22.0-cp311-cp311-win_amd64.whl.metadata (77 kB)\n",
      "Collecting marshmallow<4.0.0,>=3.18.0 (from dataclasses-json<0.7.0,>=0.6.7->langchain-community)\n",
      "  Downloading marshmallow-3.26.1-py3-none-any.whl.metadata (7.3 kB)\n",
      "Collecting typing-inspect<1,>=0.4.0 (from dataclasses-json<0.7.0,>=0.6.7->langchain-community)\n",
      "  Downloading typing_inspect-0.9.0-py3-none-any.whl.metadata (1.5 kB)\n",
      "Requirement already satisfied: langchain-text-splitters<1.0.0,>=0.3.9 in c:\\users\\shiva\\appdata\\local\\programs\\python\\python311\\lib\\site-packages (from langchain<2.0.0,>=0.3.27->langchain-community) (0.3.11)\n",
      "Requirement already satisfied: pydantic<3.0.0,>=2.7.4 in c:\\users\\shiva\\appdata\\local\\programs\\python\\python311\\lib\\site-packages (from langchain<2.0.0,>=0.3.27->langchain-community) (2.12.2)\n",
      "Requirement already satisfied: jsonpatch<2.0.0,>=1.33.0 in c:\\users\\shiva\\appdata\\local\\programs\\python\\python311\\lib\\site-packages (from langchain-core<2.0.0,>=0.3.78->langchain-community) (1.33)\n",
      "Requirement already satisfied: typing-extensions<5.0.0,>=4.7.0 in c:\\users\\shiva\\appdata\\local\\programs\\python\\python311\\lib\\site-packages (from langchain-core<2.0.0,>=0.3.78->langchain-community) (4.15.0)\n",
      "Requirement already satisfied: packaging<26.0.0,>=23.2.0 in c:\\users\\shiva\\appdata\\local\\programs\\python\\python311\\lib\\site-packages (from langchain-core<2.0.0,>=0.3.78->langchain-community) (25.0)\n",
      "Requirement already satisfied: jsonpointer>=1.9 in c:\\users\\shiva\\appdata\\local\\programs\\python\\python311\\lib\\site-packages (from jsonpatch<2.0.0,>=1.33.0->langchain-core<2.0.0,>=0.3.78->langchain-community) (3.0.0)\n",
      "Requirement already satisfied: httpx<1,>=0.23.0 in c:\\users\\shiva\\appdata\\local\\programs\\python\\python311\\lib\\site-packages (from langsmith<1.0.0,>=0.1.125->langchain-community) (0.28.1)\n",
      "Requirement already satisfied: orjson>=3.9.14 in c:\\users\\shiva\\appdata\\local\\programs\\python\\python311\\lib\\site-packages (from langsmith<1.0.0,>=0.1.125->langchain-community) (3.11.3)\n",
      "Requirement already satisfied: requests-toolbelt>=1.0.0 in c:\\users\\shiva\\appdata\\local\\programs\\python\\python311\\lib\\site-packages (from langsmith<1.0.0,>=0.1.125->langchain-community) (1.0.0)\n",
      "Requirement already satisfied: zstandard>=0.23.0 in c:\\users\\shiva\\appdata\\local\\programs\\python\\python311\\lib\\site-packages (from langsmith<1.0.0,>=0.1.125->langchain-community) (0.25.0)\n",
      "Requirement already satisfied: anyio in c:\\users\\shiva\\appdata\\local\\programs\\python\\python311\\lib\\site-packages (from httpx<1,>=0.23.0->langsmith<1.0.0,>=0.1.125->langchain-community) (4.11.0)\n",
      "Requirement already satisfied: certifi in c:\\users\\shiva\\appdata\\local\\programs\\python\\python311\\lib\\site-packages (from httpx<1,>=0.23.0->langsmith<1.0.0,>=0.1.125->langchain-community) (2025.10.5)\n",
      "Requirement already satisfied: httpcore==1.* in c:\\users\\shiva\\appdata\\local\\programs\\python\\python311\\lib\\site-packages (from httpx<1,>=0.23.0->langsmith<1.0.0,>=0.1.125->langchain-community) (1.0.9)\n",
      "Requirement already satisfied: idna in c:\\users\\shiva\\appdata\\local\\programs\\python\\python311\\lib\\site-packages (from httpx<1,>=0.23.0->langsmith<1.0.0,>=0.1.125->langchain-community) (3.11)\n",
      "Requirement already satisfied: h11>=0.16 in c:\\users\\shiva\\appdata\\local\\programs\\python\\python311\\lib\\site-packages (from httpcore==1.*->httpx<1,>=0.23.0->langsmith<1.0.0,>=0.1.125->langchain-community) (0.16.0)\n",
      "Requirement already satisfied: annotated-types>=0.6.0 in c:\\users\\shiva\\appdata\\local\\programs\\python\\python311\\lib\\site-packages (from pydantic<3.0.0,>=2.7.4->langchain<2.0.0,>=0.3.27->langchain-community) (0.7.0)\n",
      "Requirement already satisfied: pydantic-core==2.41.4 in c:\\users\\shiva\\appdata\\local\\programs\\python\\python311\\lib\\site-packages (from pydantic<3.0.0,>=2.7.4->langchain<2.0.0,>=0.3.27->langchain-community) (2.41.4)\n",
      "Requirement already satisfied: typing-inspection>=0.4.2 in c:\\users\\shiva\\appdata\\local\\programs\\python\\python311\\lib\\site-packages (from pydantic<3.0.0,>=2.7.4->langchain<2.0.0,>=0.3.27->langchain-community) (0.4.2)\n",
      "Collecting python-dotenv>=0.21.0 (from pydantic-settings<3.0.0,>=2.10.1->langchain-community)\n",
      "  Downloading python_dotenv-1.1.1-py3-none-any.whl.metadata (24 kB)\n",
      "Requirement already satisfied: charset_normalizer<4,>=2 in c:\\users\\shiva\\appdata\\local\\programs\\python\\python311\\lib\\site-packages (from requests<3.0.0,>=2.32.5->langchain-community) (3.4.4)\n",
      "Requirement already satisfied: urllib3<3,>=1.21.1 in c:\\users\\shiva\\appdata\\local\\programs\\python\\python311\\lib\\site-packages (from requests<3.0.0,>=2.32.5->langchain-community) (2.5.0)\n",
      "Requirement already satisfied: greenlet>=1 in c:\\users\\shiva\\appdata\\local\\programs\\python\\python311\\lib\\site-packages (from SQLAlchemy<3.0.0,>=1.4.0->langchain-community) (3.2.4)\n",
      "Collecting mypy-extensions>=0.3.0 (from typing-inspect<1,>=0.4.0->dataclasses-json<0.7.0,>=0.6.7->langchain-community)\n",
      "  Downloading mypy_extensions-1.1.0-py3-none-any.whl.metadata (1.1 kB)\n",
      "Requirement already satisfied: sniffio>=1.1 in c:\\users\\shiva\\appdata\\local\\programs\\python\\python311\\lib\\site-packages (from anyio->httpx<1,>=0.23.0->langsmith<1.0.0,>=0.1.125->langchain-community) (1.3.1)\n",
      "Downloading langchain_community-0.3.31-py3-none-any.whl (2.5 MB)\n",
      "   ---------------------------------------- 0.0/2.5 MB ? eta -:--:--\n",
      "   ---------------------------------------- 0.0/2.5 MB ? eta -:--:--\n",
      "   -------- ------------------------------- 0.5/2.5 MB 1.4 MB/s eta 0:00:02\n",
      "   ------------ --------------------------- 0.8/2.5 MB 1.3 MB/s eta 0:00:02\n",
      "   ---------------- ----------------------- 1.0/2.5 MB 1.4 MB/s eta 0:00:02\n",
      "   -------------------- ------------------- 1.3/2.5 MB 1.5 MB/s eta 0:00:01\n",
      "   ---------------------------- ----------- 1.8/2.5 MB 1.6 MB/s eta 0:00:01\n",
      "   ------------------------------------- -- 2.4/2.5 MB 1.7 MB/s eta 0:00:01\n",
      "   ---------------------------------------- 2.5/2.5 MB 1.7 MB/s  0:00:01\n",
      "Downloading aiohttp-3.13.0-cp311-cp311-win_amd64.whl (454 kB)\n",
      "Downloading dataclasses_json-0.6.7-py3-none-any.whl (28 kB)\n",
      "Downloading httpx_sse-0.4.3-py3-none-any.whl (9.0 kB)\n",
      "Downloading marshmallow-3.26.1-py3-none-any.whl (50 kB)\n",
      "Downloading multidict-6.7.0-cp311-cp311-win_amd64.whl (46 kB)\n",
      "Downloading pydantic_settings-2.11.0-py3-none-any.whl (48 kB)\n",
      "Downloading typing_inspect-0.9.0-py3-none-any.whl (8.8 kB)\n",
      "Downloading yarl-1.22.0-cp311-cp311-win_amd64.whl (86 kB)\n",
      "Downloading aiohappyeyeballs-2.6.1-py3-none-any.whl (15 kB)\n",
      "Downloading aiosignal-1.4.0-py3-none-any.whl (7.5 kB)\n",
      "Downloading frozenlist-1.8.0-cp311-cp311-win_amd64.whl (44 kB)\n",
      "Downloading mypy_extensions-1.1.0-py3-none-any.whl (5.0 kB)\n",
      "Downloading propcache-0.4.1-cp311-cp311-win_amd64.whl (41 kB)\n",
      "Downloading python_dotenv-1.1.1-py3-none-any.whl (20 kB)\n",
      "Installing collected packages: python-dotenv, propcache, mypy-extensions, multidict, marshmallow, httpx-sse, frozenlist, aiohappyeyeballs, yarl, typing-inspect, aiosignal, pydantic-settings, dataclasses-json, aiohttp, langchain-community\n",
      "\n",
      "   ----------------------------------------  0/15 [python-dotenv]\n",
      "   -- -------------------------------------  1/15 [propcache]\n",
      "   -------- -------------------------------  3/15 [multidict]\n",
      "   ---------- -----------------------------  4/15 [marshmallow]\n",
      "   ------------- --------------------------  5/15 [httpx-sse]\n",
      "   --------------------- ------------------  8/15 [yarl]\n",
      "   -------------------------- ------------- 10/15 [aiosignal]\n",
      "   ----------------------------- ---------- 11/15 [pydantic-settings]\n",
      "   ----------------------------- ---------- 11/15 [pydantic-settings]\n",
      "   -------------------------------- ------- 12/15 [dataclasses-json]\n",
      "   ---------------------------------- ----- 13/15 [aiohttp]\n",
      "   ---------------------------------- ----- 13/15 [aiohttp]\n",
      "   ---------------------------------- ----- 13/15 [aiohttp]\n",
      "   ---------------------------------- ----- 13/15 [aiohttp]\n",
      "   ---------------------------------- ----- 13/15 [aiohttp]\n",
      "   ---------------------------------- ----- 13/15 [aiohttp]\n",
      "   ---------------------------------- ----- 13/15 [aiohttp]\n",
      "   ---------------------------------- ----- 13/15 [aiohttp]\n",
      "   ------------------------------------- -- 14/15 [langchain-community]\n",
      "   ------------------------------------- -- 14/15 [langchain-community]\n",
      "   ------------------------------------- -- 14/15 [langchain-community]\n",
      "   ------------------------------------- -- 14/15 [langchain-community]\n",
      "   ------------------------------------- -- 14/15 [langchain-community]\n",
      "   ------------------------------------- -- 14/15 [langchain-community]\n",
      "   ------------------------------------- -- 14/15 [langchain-community]\n",
      "   ------------------------------------- -- 14/15 [langchain-community]\n",
      "   ------------------------------------- -- 14/15 [langchain-community]\n",
      "   ------------------------------------- -- 14/15 [langchain-community]\n",
      "   ------------------------------------- -- 14/15 [langchain-community]\n",
      "   ------------------------------------- -- 14/15 [langchain-community]\n",
      "   ------------------------------------- -- 14/15 [langchain-community]\n",
      "   ------------------------------------- -- 14/15 [langchain-community]\n",
      "   ------------------------------------- -- 14/15 [langchain-community]\n",
      "   ------------------------------------- -- 14/15 [langchain-community]\n",
      "   ------------------------------------- -- 14/15 [langchain-community]\n",
      "   ------------------------------------- -- 14/15 [langchain-community]\n",
      "   ------------------------------------- -- 14/15 [langchain-community]\n",
      "   ------------------------------------- -- 14/15 [langchain-community]\n",
      "   ------------------------------------- -- 14/15 [langchain-community]\n",
      "   ------------------------------------- -- 14/15 [langchain-community]\n",
      "   ------------------------------------- -- 14/15 [langchain-community]\n",
      "   ------------------------------------- -- 14/15 [langchain-community]\n",
      "   ------------------------------------- -- 14/15 [langchain-community]\n",
      "   ------------------------------------- -- 14/15 [langchain-community]\n",
      "   ------------------------------------- -- 14/15 [langchain-community]\n",
      "   ------------------------------------- -- 14/15 [langchain-community]\n",
      "   ------------------------------------- -- 14/15 [langchain-community]\n",
      "   ------------------------------------- -- 14/15 [langchain-community]\n",
      "   ------------------------------------- -- 14/15 [langchain-community]\n",
      "   ------------------------------------- -- 14/15 [langchain-community]\n",
      "   ------------------------------------- -- 14/15 [langchain-community]\n",
      "   ------------------------------------- -- 14/15 [langchain-community]\n",
      "   ------------------------------------- -- 14/15 [langchain-community]\n",
      "   ------------------------------------- -- 14/15 [langchain-community]\n",
      "   ------------------------------------- -- 14/15 [langchain-community]\n",
      "   ------------------------------------- -- 14/15 [langchain-community]\n",
      "   ------------------------------------- -- 14/15 [langchain-community]\n",
      "   ------------------------------------- -- 14/15 [langchain-community]\n",
      "   ------------------------------------- -- 14/15 [langchain-community]\n",
      "   ------------------------------------- -- 14/15 [langchain-community]\n",
      "   ------------------------------------- -- 14/15 [langchain-community]\n",
      "   ------------------------------------- -- 14/15 [langchain-community]\n",
      "   ------------------------------------- -- 14/15 [langchain-community]\n",
      "   ------------------------------------- -- 14/15 [langchain-community]\n",
      "   ------------------------------------- -- 14/15 [langchain-community]\n",
      "   ------------------------------------- -- 14/15 [langchain-community]\n",
      "   ------------------------------------- -- 14/15 [langchain-community]\n",
      "   ------------------------------------- -- 14/15 [langchain-community]\n",
      "   ------------------------------------- -- 14/15 [langchain-community]\n",
      "   ------------------------------------- -- 14/15 [langchain-community]\n",
      "   ------------------------------------- -- 14/15 [langchain-community]\n",
      "   ------------------------------------- -- 14/15 [langchain-community]\n",
      "   ------------------------------------- -- 14/15 [langchain-community]\n",
      "   ------------------------------------- -- 14/15 [langchain-community]\n",
      "   ------------------------------------- -- 14/15 [langchain-community]\n",
      "   ------------------------------------- -- 14/15 [langchain-community]\n",
      "   ------------------------------------- -- 14/15 [langchain-community]\n",
      "   ------------------------------------- -- 14/15 [langchain-community]\n",
      "   ------------------------------------- -- 14/15 [langchain-community]\n",
      "   ------------------------------------- -- 14/15 [langchain-community]\n",
      "   ------------------------------------- -- 14/15 [langchain-community]\n",
      "   ------------------------------------- -- 14/15 [langchain-community]\n",
      "   ------------------------------------- -- 14/15 [langchain-community]\n",
      "   ------------------------------------- -- 14/15 [langchain-community]\n",
      "   ------------------------------------- -- 14/15 [langchain-community]\n",
      "   ------------------------------------- -- 14/15 [langchain-community]\n",
      "   ------------------------------------- -- 14/15 [langchain-community]\n",
      "   ------------------------------------- -- 14/15 [langchain-community]\n",
      "   ------------------------------------- -- 14/15 [langchain-community]\n",
      "   ------------------------------------- -- 14/15 [langchain-community]\n",
      "   ------------------------------------- -- 14/15 [langchain-community]\n",
      "   ------------------------------------- -- 14/15 [langchain-community]\n",
      "   ------------------------------------- -- 14/15 [langchain-community]\n",
      "   ------------------------------------- -- 14/15 [langchain-community]\n",
      "   ------------------------------------- -- 14/15 [langchain-community]\n",
      "   ------------------------------------- -- 14/15 [langchain-community]\n",
      "   ------------------------------------- -- 14/15 [langchain-community]\n",
      "   ------------------------------------- -- 14/15 [langchain-community]\n",
      "   ------------------------------------- -- 14/15 [langchain-community]\n",
      "   ------------------------------------- -- 14/15 [langchain-community]\n",
      "   ------------------------------------- -- 14/15 [langchain-community]\n",
      "   ------------------------------------- -- 14/15 [langchain-community]\n",
      "   ------------------------------------- -- 14/15 [langchain-community]\n",
      "   ------------------------------------- -- 14/15 [langchain-community]\n",
      "   ------------------------------------- -- 14/15 [langchain-community]\n",
      "   ------------------------------------- -- 14/15 [langchain-community]\n",
      "   ------------------------------------- -- 14/15 [langchain-community]\n",
      "   ------------------------------------- -- 14/15 [langchain-community]\n",
      "   ------------------------------------- -- 14/15 [langchain-community]\n",
      "   ------------------------------------- -- 14/15 [langchain-community]\n",
      "   ------------------------------------- -- 14/15 [langchain-community]\n",
      "   ------------------------------------- -- 14/15 [langchain-community]\n",
      "   ------------------------------------- -- 14/15 [langchain-community]\n",
      "   ------------------------------------- -- 14/15 [langchain-community]\n",
      "   ------------------------------------- -- 14/15 [langchain-community]\n",
      "   ------------------------------------- -- 14/15 [langchain-community]\n",
      "   ------------------------------------- -- 14/15 [langchain-community]\n",
      "   ------------------------------------- -- 14/15 [langchain-community]\n",
      "   ------------------------------------- -- 14/15 [langchain-community]\n",
      "   ------------------------------------- -- 14/15 [langchain-community]\n",
      "   ------------------------------------- -- 14/15 [langchain-community]\n",
      "   ------------------------------------- -- 14/15 [langchain-community]\n",
      "   ------------------------------------- -- 14/15 [langchain-community]\n",
      "   ------------------------------------- -- 14/15 [langchain-community]\n",
      "   ------------------------------------- -- 14/15 [langchain-community]\n",
      "   ------------------------------------- -- 14/15 [langchain-community]\n",
      "   ------------------------------------- -- 14/15 [langchain-community]\n",
      "   ------------------------------------- -- 14/15 [langchain-community]\n",
      "   ------------------------------------- -- 14/15 [langchain-community]\n",
      "   ------------------------------------- -- 14/15 [langchain-community]\n",
      "   ------------------------------------- -- 14/15 [langchain-community]\n",
      "   ------------------------------------- -- 14/15 [langchain-community]\n",
      "   ------------------------------------- -- 14/15 [langchain-community]\n",
      "   ------------------------------------- -- 14/15 [langchain-community]\n",
      "   ------------------------------------- -- 14/15 [langchain-community]\n",
      "   ------------------------------------- -- 14/15 [langchain-community]\n",
      "   ------------------------------------- -- 14/15 [langchain-community]\n",
      "   ------------------------------------- -- 14/15 [langchain-community]\n",
      "   ------------------------------------- -- 14/15 [langchain-community]\n",
      "   ------------------------------------- -- 14/15 [langchain-community]\n",
      "   ------------------------------------- -- 14/15 [langchain-community]\n",
      "   ------------------------------------- -- 14/15 [langchain-community]\n",
      "   ------------------------------------- -- 14/15 [langchain-community]\n",
      "   ------------------------------------- -- 14/15 [langchain-community]\n",
      "   ------------------------------------- -- 14/15 [langchain-community]\n",
      "   ------------------------------------- -- 14/15 [langchain-community]\n",
      "   ------------------------------------- -- 14/15 [langchain-community]\n",
      "   ------------------------------------- -- 14/15 [langchain-community]\n",
      "   ------------------------------------- -- 14/15 [langchain-community]\n",
      "   ------------------------------------- -- 14/15 [langchain-community]\n",
      "   ------------------------------------- -- 14/15 [langchain-community]\n",
      "   ------------------------------------- -- 14/15 [langchain-community]\n",
      "   ---------------------------------------- 15/15 [langchain-community]\n",
      "\n",
      "Successfully installed aiohappyeyeballs-2.6.1 aiohttp-3.13.0 aiosignal-1.4.0 dataclasses-json-0.6.7 frozenlist-1.8.0 httpx-sse-0.4.3 langchain-community-0.3.31 marshmallow-3.26.1 multidict-6.7.0 mypy-extensions-1.1.0 propcache-0.4.1 pydantic-settings-2.11.0 python-dotenv-1.1.1 typing-inspect-0.9.0 yarl-1.22.0\n",
      "Note: you may need to restart the kernel to use updated packages.\n"
     ]
    }
   ],
   "source": [
    "pip install -U langchain-community"
   ]
  },
  {
   "cell_type": "code",
   "execution_count": 36,
   "id": "e3fb08af-2080-4146-ad1e-e8c04011be09",
   "metadata": {},
   "outputs": [],
   "source": [
    "#TextLoader"
   ]
  },
  {
   "cell_type": "code",
   "execution_count": 37,
   "id": "2252c8d8-265b-464f-979e-a9eee292f89d",
   "metadata": {},
   "outputs": [],
   "source": [
    "from langchain.document_loaders import TextLoader"
   ]
  },
  {
   "cell_type": "code",
   "execution_count": 38,
   "id": "bd5da178-2066-41ea-b3da-805376bd461f",
   "metadata": {},
   "outputs": [],
   "source": [
    "loader=TextLoader(\"nvda_news_1.txt\")\n",
    "data=loader.load()"
   ]
  },
  {
   "cell_type": "code",
   "execution_count": 39,
   "id": "7f0437a4-42d2-41f6-a8bb-7024f28c93e8",
   "metadata": {},
   "outputs": [
    {
     "data": {
      "text/plain": [
       "{'source': 'nvda_news_1.txt'}"
      ]
     },
     "execution_count": 39,
     "metadata": {},
     "output_type": "execute_result"
    }
   ],
   "source": [
    "data[0].metadata"
   ]
  },
  {
   "cell_type": "code",
   "execution_count": 40,
   "id": "4af65542-0e3b-486c-957e-442354424253",
   "metadata": {},
   "outputs": [
    {
     "data": {
      "text/plain": [
       "'nvda_news_1.txt'"
      ]
     },
     "execution_count": 40,
     "metadata": {},
     "output_type": "execute_result"
    }
   ],
   "source": [
    "loader.file_path"
   ]
  },
  {
   "cell_type": "code",
   "execution_count": 51,
   "id": "7499e694-8aba-49b7-8759-7e0fa7552dbb",
   "metadata": {},
   "outputs": [],
   "source": [
    "#CSV Loader"
   ]
  },
  {
   "cell_type": "code",
   "execution_count": 41,
   "id": "881c8a70-786d-4b07-9eb0-7080c7d87ed6",
   "metadata": {},
   "outputs": [],
   "source": [
    "from langchain.document_loaders.csv_loader import CSVLoader"
   ]
  },
  {
   "cell_type": "code",
   "execution_count": 42,
   "id": "6b8cea48-a513-448e-b5b1-35430d4f16a3",
   "metadata": {},
   "outputs": [
    {
     "data": {
      "text/plain": [
       "9"
      ]
     },
     "execution_count": 42,
     "metadata": {},
     "output_type": "execute_result"
    }
   ],
   "source": [
    "loader=CSVLoader(\"movies.csv\")\n",
    "data=loader.load()\n",
    "len(data)"
   ]
  },
  {
   "cell_type": "code",
   "execution_count": 43,
   "id": "7ca24f94-2783-4341-b2ab-70320590d126",
   "metadata": {},
   "outputs": [
    {
     "data": {
      "text/plain": [
       "[Document(metadata={'source': 'movies.csv', 'row': 0}, page_content='movie_id: 101\\ntitle: K.G.F: Chapter 2\\nindustry: Bollywood\\nrelease_year: 2022\\nimdb_rating: 8.4\\nstudio: Hombale Films\\nlanguage_id: 3\\nbudget: 1\\nrevenue: 12.5\\nunit: Billions\\ncurrency: INR'),\n",
       " Document(metadata={'source': 'movies.csv', 'row': 1}, page_content='movie_id: 102\\ntitle: Doctor Strange in the Multiverse of Madness\\nindustry: Hollywood\\nrelease_year: 2022\\nimdb_rating: 7\\nstudio: Marvel Studios\\nlanguage_id: 5\\nbudget: 200\\nrevenue: 954.8\\nunit: Millions\\ncurrency: USD'),\n",
       " Document(metadata={'source': 'movies.csv', 'row': 2}, page_content='movie_id: 103\\ntitle: Thor: The Dark World\\nindustry: Hollywood\\nrelease_year: 2013\\nimdb_rating: 6.8\\nstudio: Marvel Studios\\nlanguage_id: 5\\nbudget: 165\\nrevenue: 644.8\\nunit: Millions\\ncurrency: USD'),\n",
       " Document(metadata={'source': 'movies.csv', 'row': 3}, page_content='movie_id: 104\\ntitle: Thor: Ragnarok\\nindustry: Hollywood\\nrelease_year: 2017\\nimdb_rating: 7.9\\nstudio: Marvel Studios\\nlanguage_id: 5\\nbudget: 180\\nrevenue: 854\\nunit: Millions\\ncurrency: USD'),\n",
       " Document(metadata={'source': 'movies.csv', 'row': 4}, page_content='movie_id: 105\\ntitle: Thor: Love and Thunder\\nindustry: Hollywood\\nrelease_year: 2022\\nimdb_rating: 6.8\\nstudio: Marvel Studios\\nlanguage_id: 5\\nbudget: 250\\nrevenue: 670\\nunit: Millions\\ncurrency: USD'),\n",
       " Document(metadata={'source': 'movies.csv', 'row': 5}, page_content='movie_id: 106\\ntitle: Sholay\\nindustry: Bollywood\\nrelease_year: 1975\\nimdb_rating: 8.1\\nstudio: United Producers\\nlanguage_id: 1\\nbudget: Not Available\\nrevenue: Not Available\\nunit: Not Available\\ncurrency: Not Available'),\n",
       " Document(metadata={'source': 'movies.csv', 'row': 6}, page_content='movie_id: 107\\ntitle: Dilwale Dulhania Le Jayenge\\nindustry: Bollywood\\nrelease_year: 1995\\nimdb_rating: 8\\nstudio: Yash Raj Films\\nlanguage_id: 1\\nbudget: 400\\nrevenue: 2000\\nunit: Millions\\ncurrency: INR'),\n",
       " Document(metadata={'source': 'movies.csv', 'row': 7}, page_content='movie_id: 108\\ntitle: 3 Idiots\\nindustry: Bollywood\\nrelease_year: 2009\\nimdb_rating: 8.4\\nstudio: Vinod Chopra Films\\nlanguage_id: 1\\nbudget: 550\\nrevenue: 4000\\nunit: Millions\\ncurrency: INR'),\n",
       " Document(metadata={'source': 'movies.csv', 'row': 8}, page_content='movie_id: 109\\ntitle: Kabhi Khushi Kabhie Gham\\nindustry: Bollywood\\nrelease_year: 2001\\nimdb_rating: 7.4\\nstudio: Dharma Productions\\nlanguage_id: 1\\nbudget: 390\\nrevenue: 1360\\nunit: Millions\\ncurrency: INR')]"
      ]
     },
     "execution_count": 43,
     "metadata": {},
     "output_type": "execute_result"
    }
   ],
   "source": [
    "data"
   ]
  },
  {
   "cell_type": "code",
   "execution_count": 44,
   "id": "a162501c-d5ba-4e14-a893-4a35892fd0c3",
   "metadata": {},
   "outputs": [
    {
     "data": {
      "text/plain": [
       "Document(metadata={'source': 'movies.csv', 'row': 0}, page_content='movie_id: 101\\ntitle: K.G.F: Chapter 2\\nindustry: Bollywood\\nrelease_year: 2022\\nimdb_rating: 8.4\\nstudio: Hombale Films\\nlanguage_id: 3\\nbudget: 1\\nrevenue: 12.5\\nunit: Billions\\ncurrency: INR')"
      ]
     },
     "execution_count": 44,
     "metadata": {},
     "output_type": "execute_result"
    }
   ],
   "source": [
    "data[0]"
   ]
  },
  {
   "cell_type": "code",
   "execution_count": 45,
   "id": "f13c5de5-059f-43bd-9288-2d5086f98d4d",
   "metadata": {},
   "outputs": [
    {
     "data": {
      "text/plain": [
       "'movie_id: 101\\ntitle: K.G.F: Chapter 2\\nindustry: Bollywood\\nrelease_year: 2022\\nimdb_rating: 8.4\\nstudio: Hombale Films\\nlanguage_id: 3\\nbudget: 1\\nrevenue: 12.5\\nunit: Billions\\ncurrency: INR'"
      ]
     },
     "execution_count": 45,
     "metadata": {},
     "output_type": "execute_result"
    }
   ],
   "source": [
    "data[0].page_content"
   ]
  },
  {
   "cell_type": "code",
   "execution_count": 46,
   "id": "ccc659c1-a962-42b7-bf6b-8acc9503a261",
   "metadata": {},
   "outputs": [],
   "source": [
    "loader = CSVLoader(file_path=\"movies.csv\", source_column=\"title\")\n",
    "data = loader.load()"
   ]
  },
  {
   "cell_type": "code",
   "execution_count": 47,
   "id": "90b01fe9-6adf-400f-984e-6ab845c4c88b",
   "metadata": {},
   "outputs": [
    {
     "data": {
      "text/plain": [
       "{'source': 'K.G.F: Chapter 2', 'row': 0}"
      ]
     },
     "execution_count": 47,
     "metadata": {},
     "output_type": "execute_result"
    }
   ],
   "source": [
    "data[0].metadata"
   ]
  },
  {
   "cell_type": "code",
   "execution_count": 48,
   "id": "5e92bbff-bf0b-4c27-9693-cea12513f296",
   "metadata": {},
   "outputs": [
    {
     "name": "stdout",
     "output_type": "stream",
     "text": [
      "Requirement already satisfied: unstructured in c:\\users\\shiva\\appdata\\local\\programs\\python\\python311\\lib\\site-packages (0.18.15)\n",
      "Requirement already satisfied: libmagic in c:\\users\\shiva\\appdata\\local\\programs\\python\\python311\\lib\\site-packages (1.0)\n",
      "Requirement already satisfied: python-magic in c:\\users\\shiva\\appdata\\local\\programs\\python\\python311\\lib\\site-packages (0.4.27)\n",
      "Requirement already satisfied: python-magic-bin in c:\\users\\shiva\\appdata\\local\\programs\\python\\python311\\lib\\site-packages (0.4.14)\n",
      "Requirement already satisfied: charset-normalizer in c:\\users\\shiva\\appdata\\local\\programs\\python\\python311\\lib\\site-packages (from unstructured) (3.4.4)\n",
      "Requirement already satisfied: filetype in c:\\users\\shiva\\appdata\\local\\programs\\python\\python311\\lib\\site-packages (from unstructured) (1.2.0)\n",
      "Requirement already satisfied: lxml in c:\\users\\shiva\\appdata\\local\\programs\\python\\python311\\lib\\site-packages (from unstructured) (6.0.2)\n",
      "Requirement already satisfied: nltk in c:\\users\\shiva\\appdata\\local\\programs\\python\\python311\\lib\\site-packages (from unstructured) (3.9.2)\n",
      "Requirement already satisfied: requests in c:\\users\\shiva\\appdata\\local\\programs\\python\\python311\\lib\\site-packages (from unstructured) (2.32.5)\n",
      "Requirement already satisfied: beautifulsoup4 in c:\\users\\shiva\\appdata\\local\\programs\\python\\python311\\lib\\site-packages (from unstructured) (4.14.2)\n",
      "Requirement already satisfied: emoji in c:\\users\\shiva\\appdata\\local\\programs\\python\\python311\\lib\\site-packages (from unstructured) (2.15.0)\n",
      "Requirement already satisfied: dataclasses-json in c:\\users\\shiva\\appdata\\local\\programs\\python\\python311\\lib\\site-packages (from unstructured) (0.6.7)\n",
      "Requirement already satisfied: python-iso639 in c:\\users\\shiva\\appdata\\local\\programs\\python\\python311\\lib\\site-packages (from unstructured) (2025.2.18)\n",
      "Requirement already satisfied: langdetect in c:\\users\\shiva\\appdata\\local\\programs\\python\\python311\\lib\\site-packages (from unstructured) (1.0.9)\n",
      "Requirement already satisfied: numpy in c:\\users\\shiva\\appdata\\local\\programs\\python\\python311\\lib\\site-packages (from unstructured) (2.3.3)\n",
      "Requirement already satisfied: rapidfuzz in c:\\users\\shiva\\appdata\\local\\programs\\python\\python311\\lib\\site-packages (from unstructured) (3.14.1)\n",
      "Requirement already satisfied: backoff in c:\\users\\shiva\\appdata\\local\\programs\\python\\python311\\lib\\site-packages (from unstructured) (2.2.1)\n",
      "Requirement already satisfied: typing-extensions in c:\\users\\shiva\\appdata\\local\\programs\\python\\python311\\lib\\site-packages (from unstructured) (4.15.0)\n",
      "Requirement already satisfied: unstructured-client in c:\\users\\shiva\\appdata\\local\\programs\\python\\python311\\lib\\site-packages (from unstructured) (0.42.3)\n",
      "Requirement already satisfied: wrapt in c:\\users\\shiva\\appdata\\local\\programs\\python\\python311\\lib\\site-packages (from unstructured) (1.17.3)\n",
      "Requirement already satisfied: tqdm in c:\\users\\shiva\\appdata\\local\\programs\\python\\python311\\lib\\site-packages (from unstructured) (4.67.1)\n",
      "Requirement already satisfied: psutil in c:\\users\\shiva\\appdata\\local\\programs\\python\\python311\\lib\\site-packages (from unstructured) (7.1.0)\n",
      "Requirement already satisfied: python-oxmsg in c:\\users\\shiva\\appdata\\local\\programs\\python\\python311\\lib\\site-packages (from unstructured) (0.0.2)\n",
      "Requirement already satisfied: html5lib in c:\\users\\shiva\\appdata\\local\\programs\\python\\python311\\lib\\site-packages (from unstructured) (1.1)\n",
      "Requirement already satisfied: soupsieve>1.2 in c:\\users\\shiva\\appdata\\local\\programs\\python\\python311\\lib\\site-packages (from beautifulsoup4->unstructured) (2.8)\n",
      "Requirement already satisfied: marshmallow<4.0.0,>=3.18.0 in c:\\users\\shiva\\appdata\\local\\programs\\python\\python311\\lib\\site-packages (from dataclasses-json->unstructured) (3.26.1)\n",
      "Requirement already satisfied: typing-inspect<1,>=0.4.0 in c:\\users\\shiva\\appdata\\local\\programs\\python\\python311\\lib\\site-packages (from dataclasses-json->unstructured) (0.9.0)\n",
      "Requirement already satisfied: packaging>=17.0 in c:\\users\\shiva\\appdata\\local\\programs\\python\\python311\\lib\\site-packages (from marshmallow<4.0.0,>=3.18.0->dataclasses-json->unstructured) (25.0)\n",
      "Requirement already satisfied: mypy-extensions>=0.3.0 in c:\\users\\shiva\\appdata\\local\\programs\\python\\python311\\lib\\site-packages (from typing-inspect<1,>=0.4.0->dataclasses-json->unstructured) (1.1.0)\n",
      "Requirement already satisfied: six>=1.9 in c:\\users\\shiva\\appdata\\local\\programs\\python\\python311\\lib\\site-packages (from html5lib->unstructured) (1.17.0)\n",
      "Requirement already satisfied: webencodings in c:\\users\\shiva\\appdata\\local\\programs\\python\\python311\\lib\\site-packages (from html5lib->unstructured) (0.5.1)\n",
      "Requirement already satisfied: click in c:\\users\\shiva\\appdata\\local\\programs\\python\\python311\\lib\\site-packages (from nltk->unstructured) (8.3.0)\n",
      "Requirement already satisfied: joblib in c:\\users\\shiva\\appdata\\local\\programs\\python\\python311\\lib\\site-packages (from nltk->unstructured) (1.5.2)\n",
      "Requirement already satisfied: regex>=2021.8.3 in c:\\users\\shiva\\appdata\\local\\programs\\python\\python311\\lib\\site-packages (from nltk->unstructured) (2025.9.18)\n",
      "Requirement already satisfied: colorama in c:\\users\\shiva\\appdata\\local\\programs\\python\\python311\\lib\\site-packages (from click->nltk->unstructured) (0.4.6)\n",
      "Requirement already satisfied: olefile in c:\\users\\shiva\\appdata\\local\\programs\\python\\python311\\lib\\site-packages (from python-oxmsg->unstructured) (0.47)\n",
      "Requirement already satisfied: idna<4,>=2.5 in c:\\users\\shiva\\appdata\\local\\programs\\python\\python311\\lib\\site-packages (from requests->unstructured) (3.11)\n",
      "Requirement already satisfied: urllib3<3,>=1.21.1 in c:\\users\\shiva\\appdata\\local\\programs\\python\\python311\\lib\\site-packages (from requests->unstructured) (2.5.0)\n",
      "Requirement already satisfied: certifi>=2017.4.17 in c:\\users\\shiva\\appdata\\local\\programs\\python\\python311\\lib\\site-packages (from requests->unstructured) (2025.10.5)\n",
      "Requirement already satisfied: aiofiles>=24.1.0 in c:\\users\\shiva\\appdata\\local\\programs\\python\\python311\\lib\\site-packages (from unstructured-client->unstructured) (25.1.0)\n",
      "Requirement already satisfied: cryptography>=3.1 in c:\\users\\shiva\\appdata\\local\\programs\\python\\python311\\lib\\site-packages (from unstructured-client->unstructured) (46.0.2)\n",
      "Requirement already satisfied: httpcore>=1.0.9 in c:\\users\\shiva\\appdata\\local\\programs\\python\\python311\\lib\\site-packages (from unstructured-client->unstructured) (1.0.9)\n",
      "Requirement already satisfied: httpx>=0.27.0 in c:\\users\\shiva\\appdata\\local\\programs\\python\\python311\\lib\\site-packages (from unstructured-client->unstructured) (0.28.1)\n",
      "Requirement already satisfied: pydantic>=2.11.2 in c:\\users\\shiva\\appdata\\local\\programs\\python\\python311\\lib\\site-packages (from unstructured-client->unstructured) (2.12.2)\n",
      "Requirement already satisfied: pypdf>=4.0 in c:\\users\\shiva\\appdata\\local\\programs\\python\\python311\\lib\\site-packages (from unstructured-client->unstructured) (6.1.1)\n",
      "Requirement already satisfied: requests-toolbelt>=1.0.0 in c:\\users\\shiva\\appdata\\local\\programs\\python\\python311\\lib\\site-packages (from unstructured-client->unstructured) (1.0.0)\n",
      "Requirement already satisfied: cffi>=2.0.0 in c:\\users\\shiva\\appdata\\local\\programs\\python\\python311\\lib\\site-packages (from cryptography>=3.1->unstructured-client->unstructured) (2.0.0)\n",
      "Requirement already satisfied: pycparser in c:\\users\\shiva\\appdata\\local\\programs\\python\\python311\\lib\\site-packages (from cffi>=2.0.0->cryptography>=3.1->unstructured-client->unstructured) (2.23)\n",
      "Requirement already satisfied: h11>=0.16 in c:\\users\\shiva\\appdata\\local\\programs\\python\\python311\\lib\\site-packages (from httpcore>=1.0.9->unstructured-client->unstructured) (0.16.0)\n",
      "Requirement already satisfied: anyio in c:\\users\\shiva\\appdata\\local\\programs\\python\\python311\\lib\\site-packages (from httpx>=0.27.0->unstructured-client->unstructured) (4.11.0)\n",
      "Requirement already satisfied: annotated-types>=0.6.0 in c:\\users\\shiva\\appdata\\local\\programs\\python\\python311\\lib\\site-packages (from pydantic>=2.11.2->unstructured-client->unstructured) (0.7.0)\n",
      "Requirement already satisfied: pydantic-core==2.41.4 in c:\\users\\shiva\\appdata\\local\\programs\\python\\python311\\lib\\site-packages (from pydantic>=2.11.2->unstructured-client->unstructured) (2.41.4)\n",
      "Requirement already satisfied: typing-inspection>=0.4.2 in c:\\users\\shiva\\appdata\\local\\programs\\python\\python311\\lib\\site-packages (from pydantic>=2.11.2->unstructured-client->unstructured) (0.4.2)\n",
      "Requirement already satisfied: sniffio>=1.1 in c:\\users\\shiva\\appdata\\local\\programs\\python\\python311\\lib\\site-packages (from anyio->httpx>=0.27.0->unstructured-client->unstructured) (1.3.1)\n"
     ]
    }
   ],
   "source": [
    "#installing necessary libraries, libmagic is used for file type detection\n",
    "!pip3 install unstructured libmagic python-magic python-magic-bin"
   ]
  },
  {
   "cell_type": "code",
   "execution_count": null,
   "id": "f1ddac20-fcab-4755-b741-76255308e657",
   "metadata": {},
   "outputs": [],
   "source": [
    "#UnstructuredURLLoader"
   ]
  },
  {
   "cell_type": "code",
   "execution_count": 49,
   "id": "0bc873bd-f213-48ae-ae1d-6bfe3e6e6b4c",
   "metadata": {},
   "outputs": [],
   "source": [
    "from langchain.document_loaders import UnstructuredURLLoader"
   ]
  },
  {
   "cell_type": "code",
   "execution_count": 50,
   "id": "0bc7f49d-69ee-483e-a9cc-67a6b846d5b9",
   "metadata": {},
   "outputs": [],
   "source": [
    "loader = UnstructuredURLLoader(\n",
    "    urls = [\n",
    "        \"https://www.moneycontrol.com/news/business/banks/hdfc-bank-re-appoints-sanmoy-chakrabarti-as-chief-risk-officer-11259771.html\",\n",
    "        \"https://www.moneycontrol.com/news/business/markets/market-corrects-post-rbi-ups-inflation-forecast-icrr-bet-on-these-top-10-rate-sensitive-stocks-ideas-11142611.html\"\n",
    "    ]\n",
    ")"
   ]
  },
  {
   "cell_type": "code",
   "execution_count": 26,
   "id": "7723ad23-28e3-44f3-b27c-9f4a6ab2c3ff",
   "metadata": {},
   "outputs": [
    {
     "data": {
      "text/plain": [
       "2"
      ]
     },
     "execution_count": 26,
     "metadata": {},
     "output_type": "execute_result"
    }
   ],
   "source": [
    "data = loader.load()\n",
    "len(data)"
   ]
  },
  {
   "cell_type": "code",
   "execution_count": 27,
   "id": "7e7c7063-e950-4a89-b47c-ba47dc453fb8",
   "metadata": {},
   "outputs": [
    {
     "data": {
      "text/plain": [
       "'English\\n\\nHindi\\n\\nGujarati\\n\\nSpecials\\n\\nHello, Login\\n\\nHello, Login\\n\\nLog-inor Sign-Up\\n\\nMy Account\\n\\nMy Pro'"
      ]
     },
     "execution_count": 27,
     "metadata": {},
     "output_type": "execute_result"
    }
   ],
   "source": [
    "data[0].page_content[0:100]"
   ]
  },
  {
   "cell_type": "code",
   "execution_count": 28,
   "id": "8f8a9655-295d-489a-a6a8-c55a0eb37048",
   "metadata": {},
   "outputs": [
    {
     "data": {
      "text/plain": [
       "{'source': 'https://www.moneycontrol.com/news/business/banks/hdfc-bank-re-appoints-sanmoy-chakrabarti-as-chief-risk-officer-11259771.html'}"
      ]
     },
     "execution_count": 28,
     "metadata": {},
     "output_type": "execute_result"
    }
   ],
   "source": [
    "data[0].metadata"
   ]
  },
  {
   "cell_type": "code",
   "execution_count": 52,
   "id": "9c06d806-198d-4f4d-98b3-b3a65e3b1b40",
   "metadata": {},
   "outputs": [],
   "source": [
    "#Text Splitters"
   ]
  },
  {
   "cell_type": "code",
   "execution_count": 55,
   "id": "0849ce8e-e4f5-4d76-b5a3-ac0d09a83f94",
   "metadata": {},
   "outputs": [],
   "source": [
    "\n",
    "# Taking some random text from wikipedia\n",
    "\n",
    "text = \"\"\"Interstellar is a 2014 epic science fiction film co-written, directed, and produced by Christopher Nolan. \n",
    "It stars Matthew McConaughey, Anne Hathaway, Jessica Chastain, Bill Irwin, Ellen Burstyn, Matt Damon, and Michael Caine. \n",
    "Set in a dystopian future where humanity is embroiled in a catastrophic blight and famine, the film follows a group of astronauts who travel through a wormhole near Saturn in search of a new home for humankind.\n",
    "\n",
    "Brothers Christopher and Jonathan Nolan wrote the screenplay, which had its origins in a script Jonathan developed in 2007 and was originally set to be directed by Steven Spielberg. \n",
    "Kip Thorne, a Caltech theoretical physicist and 2017 Nobel laureate in Physics,[4] was an executive producer, acted as a scientific consultant, and wrote a tie-in book, The Science of Interstellar. \n",
    "Cinematographer Hoyte van Hoytema shot it on 35 mm movie film in the Panavision anamorphic format and IMAX 70 mm. Principal photography began in late 2013 and took place in Alberta, Iceland, and Los Angeles. \n",
    "Interstellar uses extensive practical and miniature effects, and the company Double Negative created additional digital effects.\n",
    "\n",
    "Interstellar premiered in Los Angeles on October 26, 2014. In the United States, it was first released on film stock, expanding to venues using digital projectors. The film received generally positive reviews from critics and grossed over $677 million worldwide ($715 million after subsequent re-releases), making it the tenth-highest-grossing film of 2014. \n",
    "It has been praised by astronomers for its scientific accuracy and portrayal of theoretical astrophysics.[5][6][7] Interstellar was nominated for five awards at the 87th Academy Awards, winning Best Visual Effects, and received numerous other accolades.\"\"\""
   ]
  },
  {
   "cell_type": "code",
   "execution_count": 56,
   "id": "be1aeee6-935c-4ca5-a39b-f192ae016ccd",
   "metadata": {},
   "outputs": [
    {
     "data": {
      "text/plain": [
       "'Interstellar is a 2014 epic science fiction film co-written, directed, and produced by Christopher N'"
      ]
     },
     "execution_count": 56,
     "metadata": {},
     "output_type": "execute_result"
    }
   ],
   "source": [
    "# Say LLM token limit is 100, in that case we can do simple thing such as this\n",
    "\n",
    "text[0:100]"
   ]
  },
  {
   "cell_type": "code",
   "execution_count": 57,
   "id": "2825e75b-735a-4cdd-9080-2f2672515341",
   "metadata": {},
   "outputs": [
    {
     "data": {
      "text/plain": [
       "264"
      ]
     },
     "execution_count": 57,
     "metadata": {},
     "output_type": "execute_result"
    }
   ],
   "source": [
    "# Well but we want complete words and want to do this for entire text, may be we can use Python's split funciton\n",
    "\n",
    "words = text.split(\" \")\n",
    "len(words)"
   ]
  },
  {
   "cell_type": "code",
   "execution_count": 58,
   "id": "1c3d1011-92b3-47b9-a886-e76434e8d872",
   "metadata": {},
   "outputs": [],
   "source": [
    "chunks = []\n",
    "\n",
    "s = \"\"\n",
    "for word in words:\n",
    "    s += word + \" \"\n",
    "    if len(s)>200:\n",
    "        chunks.append(s)\n",
    "        s = \"\"\n",
    "        \n",
    "chunks.append(s)"
   ]
  },
  {
   "cell_type": "code",
   "execution_count": 59,
   "id": "5f0db760-8fa3-4f29-b46c-e12e3282c2bb",
   "metadata": {},
   "outputs": [
    {
     "data": {
      "text/plain": [
       "['Interstellar is a 2014 epic science fiction film co-written, directed, and produced by Christopher Nolan. \\nIt stars Matthew McConaughey, Anne Hathaway, Jessica Chastain, Bill Irwin, Ellen Burstyn, Matt ',\n",
       " 'Damon, and Michael Caine. \\nSet in a dystopian future where humanity is embroiled in a catastrophic blight and famine, the film follows a group of astronauts who travel through a wormhole near Saturn in ']"
      ]
     },
     "execution_count": 59,
     "metadata": {},
     "output_type": "execute_result"
    }
   ],
   "source": [
    "chunks[:2]"
   ]
  },
  {
   "cell_type": "code",
   "execution_count": 60,
   "id": "40468896-1643-4c9b-ae2f-943b314ab360",
   "metadata": {},
   "outputs": [],
   "source": [
    "#Splitting data into chunks can be done in native python but it is a tidious process. Also if necessary, you may need to experiment with various delimiters in an iterative manner to ensure that each chunk does not exceed the token length limit of the respective LLM."
   ]
  },
  {
   "cell_type": "code",
   "execution_count": 61,
   "id": "ceaa66c6-1413-4ae1-ae35-6114bb74b281",
   "metadata": {},
   "outputs": [],
   "source": [
    "#Using Text Splitter Classes from Langchain"
   ]
  },
  {
   "cell_type": "code",
   "execution_count": 62,
   "id": "375a8983-2308-482f-becd-4736b5089e1d",
   "metadata": {},
   "outputs": [],
   "source": [
    "from langchain.text_splitter import CharacterTextSplitter\n",
    "\n",
    "splitter = CharacterTextSplitter(\n",
    "    separator = \"\\n\",\n",
    "    chunk_size=200,\n",
    "    chunk_overlap=0\n",
    ")"
   ]
  },
  {
   "cell_type": "code",
   "execution_count": 63,
   "id": "31330761-88b0-4975-a5d2-0f9a0c27bfb9",
   "metadata": {},
   "outputs": [
    {
     "name": "stderr",
     "output_type": "stream",
     "text": [
      "Created a chunk of size 210, which is longer than the specified 200\n",
      "Created a chunk of size 208, which is longer than the specified 200\n",
      "Created a chunk of size 358, which is longer than the specified 200\n"
     ]
    },
    {
     "data": {
      "text/plain": [
       "9"
      ]
     },
     "execution_count": 63,
     "metadata": {},
     "output_type": "execute_result"
    }
   ],
   "source": [
    "chunks = splitter.split_text(text)\n",
    "len(chunks)"
   ]
  },
  {
   "cell_type": "code",
   "execution_count": 64,
   "id": "db4596eb-3480-4394-806f-29c876510300",
   "metadata": {},
   "outputs": [
    {
     "name": "stdout",
     "output_type": "stream",
     "text": [
      "105\n",
      "120\n",
      "210\n",
      "181\n",
      "197\n",
      "207\n",
      "128\n",
      "357\n",
      "253\n"
     ]
    }
   ],
   "source": [
    "for chunk in chunks:\n",
    "    print(len(chunk))"
   ]
  },
  {
   "cell_type": "code",
   "execution_count": 65,
   "id": "b0f4e562-98f8-441f-98b4-f71d22a002f1",
   "metadata": {},
   "outputs": [],
   "source": [
    "#As you can see, all though we gave 200 as a chunk size since the split was based on \\n, it ended up creating chunks that are bigger than size 200."
   ]
  },
  {
   "cell_type": "code",
   "execution_count": 66,
   "id": "a61e8933-ca6c-4b42-a6b1-deabf031ec01",
   "metadata": {},
   "outputs": [],
   "source": [
    "#RecursiveTextSplitter"
   ]
  },
  {
   "cell_type": "code",
   "execution_count": 67,
   "id": "172f4373-b588-48d8-9827-15cf6cdb4072",
   "metadata": {},
   "outputs": [],
   "source": [
    "#Langchain can be used to recursively split the text based on a list of separators. This class is RecursiveTextSplitter. Let's see how it works"
   ]
  },
  {
   "cell_type": "code",
   "execution_count": 68,
   "id": "bd9e1425-5c9e-46ca-83ca-55e67b436d35",
   "metadata": {},
   "outputs": [],
   "source": [
    "from langchain.text_splitter import RecursiveCharacterTextSplitter\n",
    "\n",
    "r_splitter = RecursiveCharacterTextSplitter(\n",
    "    separators = [\"\\n\\n\", \"\\n\", \" \"],  # List of separators based on requirement (defaults to [\"\\n\\n\", \"\\n\", \" \"])\n",
    "    chunk_size = 200,  # size of each chunk created\n",
    "    chunk_overlap  = 0,  # size of  overlap between chunks in order to maintain the context\n",
    "    length_function = len  # Function to calculate size, currently we are using \"len\" which denotes length of string however you can pass any token counter)\n",
    ")"
   ]
  },
  {
   "cell_type": "code",
   "execution_count": 69,
   "id": "c3f4016f-30b4-44b2-88fa-a4ffc6059c61",
   "metadata": {},
   "outputs": [
    {
     "name": "stdout",
     "output_type": "stream",
     "text": [
      "105\n",
      "120\n",
      "199\n",
      "10\n",
      "181\n",
      "197\n",
      "198\n",
      "8\n",
      "128\n",
      "191\n",
      "165\n",
      "198\n",
      "54\n"
     ]
    }
   ],
   "source": [
    "chunks = r_splitter.split_text(text)\n",
    "\n",
    "for chunk in chunks:\n",
    "    print(len(chunk))"
   ]
  }
 ],
 "metadata": {
  "kernelspec": {
   "display_name": "Python 3.11",
   "language": "python",
   "name": "python311"
  },
  "language_info": {
   "codemirror_mode": {
    "name": "ipython",
    "version": 3
   },
   "file_extension": ".py",
   "mimetype": "text/x-python",
   "name": "python",
   "nbconvert_exporter": "python",
   "pygments_lexer": "ipython3",
   "version": "3.11.8"
  }
 },
 "nbformat": 4,
 "nbformat_minor": 5
}
